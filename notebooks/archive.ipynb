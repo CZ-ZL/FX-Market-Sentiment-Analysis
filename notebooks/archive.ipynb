{
 "cells": [
  {
   "cell_type": "markdown",
   "metadata": {},
   "source": [
    "Labeling of all articles on trading day \"d\" based on whether the USD/BRL exchange rate increased/decreased or hovered around a .2% increase/decrease on trading day \"d\"\n",
    "- Increase: +1\n",
    "- Decrease: -1\n",
    "- Neutral: 0\n",
    "\n",
    "Approach failed"
   ]
  },
  {
   "cell_type": "code",
   "execution_count": null,
   "metadata": {},
   "outputs": [],
   "source": [
    "'''\n",
    "# Word2Vec approach by applying +1, -1, 0 labels to ALL articles per trading day whether the BRL went up down or stayed around the same based on a .2% threshold.\n",
    "# 0 for neutral\n",
    "# +1 for up\n",
    "# -1 for down\n",
    "\n",
    "labels = {\n",
    "    '09/01/24': 1,\n",
    "    '10/01/24': 0,\n",
    "    '11/01/24': -1,\n",
    "    '12/01/24': -1, \n",
    "    '15/01/24': 1,\n",
    "    '16/01/24': 1,\n",
    "    '19/01/24': 0,\n",
    "    '22/01/24': 1,\n",
    "    '23/01/24': -1,\n",
    "    '24/01/24': -1,\n",
    "    '25/01/24': -1,\n",
    "    '26/01/24': -1,\n",
    "    '29/01/24': 1,\n",
    "    '30/01/24': 1,\n",
    "    '31/01/24': 1\n",
    "}\n",
    "\n",
    "# add lablels to df\n",
    "df_template['label'] = df_template['date'].map(labels) # called df_template because I might use this in the future for any month\n",
    "\n",
    "'''\n"
   ]
  }
 ],
 "metadata": {
  "language_info": {
   "name": "python"
  }
 },
 "nbformat": 4,
 "nbformat_minor": 2
}
