{
 "cells": [
  {
   "cell_type": "code",
   "execution_count": null,
   "metadata": {},
   "outputs": [
    {
     "name": "stdout",
     "output_type": "stream",
     "text": [
      "['News_Sample/andre/13794279-7660-4991-8f26-95333f8ca11f.xml', 'News_Sample/andre/1863b43e-cf14-4f9b-9226-7ac40bff2c46.xml', 'News_Sample/andre/18af844d-3cab-45b2-97e8-0c30d3a95cc6.xml', 'News_Sample/andre/1a5bca42-e31a-4336-81bd-916b7a3c503c.xml', 'News_Sample/andre/2e21b65c-2d3c-46a4-bd26-93238ba0bbb1.xml', 'News_Sample/andre/31785a5f-5762-4d70-8447-7a5f8799cc8a.xml', 'News_Sample/andre/5948f06f-5fd8-476e-8d7d-b7bf1af16fa0.xml', 'News_Sample/andre/66061c43-3cf9-4a92-a72c-b55c2bf23324.xml', 'News_Sample/andre/85931aef-92f7-4e24-b9bf-4a0949f041d4.xml', 'News_Sample/andre/9ad2c6c3-7c2c-45d4-8b19-da699c9eb335.xml', 'News_Sample/andre/a4930391-601d-458b-af1a-3e0af3a7cc59.xml', 'News_Sample/andre/b51b53b8-34cb-4a83-b928-e2b8f5277377.xml', 'News_Sample/andre/bfbd2175-164e-4f02-b136-0685c1c53dc1.xml', 'News_Sample/andre/c1667639-f956-4794-b03f-03f6042f31e6.xml', 'News_Sample/andre/c1d0c39f-de76-4442-ad3f-3d68652d0778.xml', 'News_Sample/andre/c731a323-0e13-41d8-babd-8da7a6fce001.xml', 'News_Sample/andre/cd35d29f-a5e5-4bbe-bda7-7dc6a35462fc.xml', 'News_Sample/andre/dde8f8c1-6485-432f-9837-e7098c19610e.xml', 'News_Sample/andre/e87eb152-02b9-4670-b0fb-3707fd2e3206.xml']\n"
     ]
    }
   ],
   "source": [
    "#For Eli\n",
    "\n",
    "import os\n",
    "\n",
    "#check working directory \n",
    "os.getcwd() \n",
    "\n",
    "directory = os.listdir('News_Sample/andre')\n",
    "\n",
    "for item in range(len(directory)):\n",
    "    directory[item] = r'News_Sample/andre/' + directory[item]\n",
    "\n",
    "#check for correct file names\n",
    "print(directory)\n",
    "\n",
    "#merge all files\n",
    "with open('Merged_News_Samples.txt', 'w') as outfile:\n",
    "    for file in directory:\n",
    "        fhand = open(file, 'r', encoding='utf-8')\n",
    "        fname = fhand.read()\n",
    "        outfile.write(fname)   "
   ]
  }
 ],
 "metadata": {
  "kernelspec": {
   "display_name": "venv",
   "language": "python",
   "name": "python3"
  },
  "language_info": {
   "codemirror_mode": {
    "name": "ipython",
    "version": 3
   },
   "file_extension": ".py",
   "mimetype": "text/x-python",
   "name": "python",
   "nbconvert_exporter": "python",
   "pygments_lexer": "ipython3",
   "version": "3.9.2"
  }
 },
 "nbformat": 4,
 "nbformat_minor": 2
}
